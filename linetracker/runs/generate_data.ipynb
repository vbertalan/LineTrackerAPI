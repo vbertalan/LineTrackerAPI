{
 "cells": [
  {
   "cell_type": "code",
   "execution_count": 2,
   "metadata": {},
   "outputs": [],
   "source": [
    "import h5py\n",
    "import tqdm\n",
    "from multiprocessing import Pool\n",
    "import sys\n",
    "import json\n",
    "sys.path.append(\"../..\")\n",
    "import linetracker.utils as u"
   ]
  },
  {
   "cell_type": "code",
   "execution_count": null,
   "metadata": {},
   "outputs": [],
   "source": [
    "L = []\n",
    "file_path = \"../../data/trat3_production_1650_1700_20231411_v1.hdf5\"\n",
    "1\n",
    "with h5py.File(file_path, 'r') as fp:\n",
    "    with tqdm.tqdm(total=len(fp)) as pbar:\n",
    "        for k,empty_dataset in fp.items():\n",
    "            L.append({**empty_dataset.attrs})\n",
    "            pbar.update(1)"
   ]
  },
  {
   "cell_type": "code",
   "execution_count": null,
   "metadata": {},
   "outputs": [],
   "source": [
    "with open(\"../../stats_dataset.json\", \"w\") as fp:\n",
    "    json.dump(L, fp, cls=u.Encoder)"
   ]
  }
 ],
 "metadata": {
  "kernelspec": {
   "display_name": "severityPrediction",
   "language": "python",
   "name": "python3"
  },
  "language_info": {
   "codemirror_mode": {
    "name": "ipython",
    "version": 3
   },
   "file_extension": ".py",
   "mimetype": "text/x-python",
   "name": "python",
   "nbconvert_exporter": "python",
   "pygments_lexer": "ipython3",
   "version": "3.9.18"
  }
 },
 "nbformat": 4,
 "nbformat_minor": 2
}
